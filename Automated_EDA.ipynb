{
 "cells": [
  {
   "cell_type": "code",
   "execution_count": 46,
   "id": "a84737a6",
   "metadata": {},
   "outputs": [],
   "source": [
    "import pandas as pd\n",
    "import numpy as np\n",
    "import matplotlib.pyplot  as plt\n",
    "import warnings\n",
    "warnings.filterwarnings(\"ignore\")\n",
    "from sklearn.preprocessing import StandardScaler\n",
    "scaler = StandardScaler()\n",
    "import dtale\n",
    "import pandas_profiling\n",
    "from autoviz.AutoViz_Class import AutoViz_Class\n",
    "AV = AutoViz_Class()"
   ]
  },
  {
   "cell_type": "markdown",
   "id": "1076efb2",
   "metadata": {},
   "source": [
    "# Load Data"
   ]
  },
  {
   "cell_type": "code",
   "execution_count": 10,
   "id": "baf470eb",
   "metadata": {},
   "outputs": [],
   "source": [
    "def load_data(file_path):\n",
    "    if file_path.endswith('csv'):\n",
    "        df = pd.read_csv(file_path)\n",
    "    elif file_path.endswith('excel'):\n",
    "        df = pd.read_excel(file_path)\n",
    "    else:\n",
    "        raise ValueError(f\"Unsupported file type: {file_type}\")\n",
    "    return df"
   ]
  },
  {
   "cell_type": "code",
   "execution_count": 45,
   "id": "81e7aa67",
   "metadata": {
    "scrolled": false
   },
   "outputs": [],
   "source": [
    "def Dtale(df):\n",
    "    d = dtale.show(df)\n",
    "    return d"
   ]
  },
  {
   "cell_type": "markdown",
   "id": "f831eff5",
   "metadata": {},
   "source": [
    "# Descriptive Statistics"
   ]
  },
  {
   "cell_type": "code",
   "execution_count": 37,
   "id": "d965f756",
   "metadata": {},
   "outputs": [],
   "source": [
    "def report(df):\n",
    "    return pandas_profiling.ProfileReport(df)"
   ]
  },
  {
   "cell_type": "code",
   "execution_count": 57,
   "id": "f96c6c88",
   "metadata": {
    "scrolled": false
   },
   "outputs": [],
   "source": [
    "def plots(file_path):\n",
    "    df = AV.AutoViz(file_path)\n",
    "    return df"
   ]
  },
  {
   "cell_type": "markdown",
   "id": "36292298",
   "metadata": {},
   "source": [
    "# Clean Data"
   ]
  },
  {
   "cell_type": "code",
   "execution_count": 48,
   "id": "e2b77d8b",
   "metadata": {},
   "outputs": [],
   "source": [
    "def handle_missing(df):\n",
    "    na_cols = [col for col in df.columns if df[col].isna().any()]\n",
    "    \n",
    "    for col in na_cols:\n",
    "        if df[col].isna().mean > 0.7:\n",
    "            df.drop(col, axis=1, inplace=True)\n",
    "        elif df[col].dtype != 'object':\n",
    "            mean_value = df[col].mean()\n",
    "            df[col].fillna(mean_value, inplace=True)\n",
    "        else:\n",
    "            mode_value = df[col].mode()\n",
    "            df[col].fillna(mode_value, inplace=True)\n",
    "    return df"
   ]
  },
  {
   "cell_type": "markdown",
   "id": "5a91d600",
   "metadata": {},
   "source": [
    "# Data Info"
   ]
  },
  {
   "cell_type": "code",
   "execution_count": 49,
   "id": "f23f2dfe",
   "metadata": {},
   "outputs": [],
   "source": [
    "def data_info(df):\n",
    "    # Display the shape of the dataset\n",
    "    print(f\"Number of rows: {df.shape[0]}\")\n",
    "    print(f\"Number of columns: {df.shape[1]}\")\n",
    "        \n",
    "    # Display summary for numerical columns\n",
    "    print(\"\\nData Summary:\\n\")\n",
    "    print(df.describe())"
   ]
  },
  {
   "cell_type": "markdown",
   "id": "7a9ef5c9",
   "metadata": {},
   "source": [
    "# Scale Numerical Featrues"
   ]
  },
  {
   "cell_type": "code",
   "execution_count": 50,
   "id": "2ccc874f",
   "metadata": {},
   "outputs": [],
   "source": [
    "def scale(df):\n",
    "    df[df.select_dtypes(include=['number']).columns] = scaler.fit_transform(df[df.select_dtypes(include=['number']).columns])"
   ]
  },
  {
   "cell_type": "markdown",
   "id": "e8091657",
   "metadata": {},
   "source": [
    "# Numerical Data Visualization"
   ]
  },
  {
   "cell_type": "code",
   "execution_count": 51,
   "id": "55aa802c",
   "metadata": {},
   "outputs": [],
   "source": [
    "def numerical_data_visualize(df):\n",
    "    numerical_cols = [col for col in df.columns if df[col].dtype != 'object']\n",
    "    \n",
    "    if len(numerical_cols) >= 2:\n",
    "        # Scatter plot\n",
    "        x_col = numerical_cols[0]\n",
    "        y_col = numerical_cols[1]\n",
    "        fig = px.scatter(df, x=x_col, y=y_col)\n",
    "        st.plotly_chart(fig)\n",
    "        \n",
    "        if len(numerical_cols) >= 3:\n",
    "            x_col = numerical_cols[0]\n",
    "            y_col = numerical_cols[2]  \n",
    "            fig = px.scatter(df, x=x_col, y=y_col)\n",
    "            st.plotly_chart(fig)\n",
    "        \n",
    "        else:\n",
    "            st.write('Numerical columns are not enough for scatter')\n",
    "        \n",
    "    # Bar chart\n",
    "    if len(numerical_cols) > 0:\n",
    "        x_col = numerical_cols[0]\n",
    "        y_col = numerical_cols[-1]\n",
    "        \n",
    "        fig = px.bar(df, x=x_col, y=y_col)\n",
    "        st.plotly_chart(fig)\n",
    "        \n",
    "    # Histogram\n",
    "        if len(numerical_cols) > 0:\n",
    "            x_col = numerical_cols[0]\n",
    "            y_col = numerical_cols[-1]\n",
    "        \n",
    "        fig = px.histogram(df, x=x_col)\n",
    "        st.plotly_chart(fig)\n",
    "        \n",
    "        fig = px.histogram(df, x=y_col)\n",
    "        st.plotly_chart(fig)\n",
    "        \n",
    "        # Box\n",
    "        fig = px.box(df, y=x_col)\n",
    "        st.plotly_chart(fig)\n",
    "        \n",
    "        fig = px.box(df, y=y_col)\n",
    "        st.plotly_chart(fig)\n",
    "    else:\n",
    "        st.write('Numerical columns are not enough')"
   ]
  },
  {
   "cell_type": "markdown",
   "id": "dcf9ecec",
   "metadata": {},
   "source": [
    "# Categorical Data Visualization"
   ]
  },
  {
   "cell_type": "code",
   "execution_count": 44,
   "id": "ee0ce082",
   "metadata": {},
   "outputs": [],
   "source": [
    "def categorical_data_visualize(df):\n",
    "    categorical_cols = [col for col in df.columns if df[col].dtype == 'object']\n",
    "    \n",
    "    if len(categorical_cols) > 0:\n",
    "\n",
    "        x_col = categorical_cols[-1]\n",
    "        y_col = categorical_cols[0]\n",
    "\n",
    "        fig = px.bar(df, x=x_col, y=y_col)\n",
    "        st.plotly_chart(fig)\n",
    "\n",
    "        if len(categorical_cols) > 2:\n",
    "        \n",
    "            x_col = categorical_cols[2]\n",
    "            y_col = categorical_cols[0]\n",
    "\n",
    "            fig = px.bar(df, x=x_col, y=y_col)\n",
    "            st.plotly_chart(fig)\n",
    "\n",
    "    else:\n",
    "        st.write('Not enough categorical columns for plots')"
   ]
  }
 ],
 "metadata": {
  "kernelspec": {
   "display_name": "Python 3 (ipykernel)",
   "language": "python",
   "name": "python3"
  },
  "language_info": {
   "codemirror_mode": {
    "name": "ipython",
    "version": 3
   },
   "file_extension": ".py",
   "mimetype": "text/x-python",
   "name": "python",
   "nbconvert_exporter": "python",
   "pygments_lexer": "ipython3",
   "version": "3.9.12"
  }
 },
 "nbformat": 4,
 "nbformat_minor": 5
}
